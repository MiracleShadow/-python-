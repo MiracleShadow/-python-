{
 "cells": [
  {
   "cell_type": "code",
   "execution_count": 1,
   "metadata": {},
   "outputs": [],
   "source": [
    "import pandas as pd\n",
    "import matplotlib.pyplot as plt\n",
    "import datetime\n",
    "import jieba\n",
    "\n",
    "%matplotlib inline"
   ]
  },
  {
   "cell_type": "code",
   "execution_count": 7,
   "metadata": {},
   "outputs": [
    {
     "name": "stdout",
     "output_type": "stream",
     "text": [
      "Title              object\n",
      "Date       datetime64[ns]\n",
      "Content            object\n",
      "Url                object\n",
      "dtype: object 368\n",
      "0      2014\n",
      "1      2014\n",
      "2      2014\n",
      "3      2014\n",
      "4      2014\n",
      "5      2014\n",
      "6      2014\n",
      "7      2014\n",
      "8      2014\n",
      "9      2014\n",
      "10     2014\n",
      "11     2014\n",
      "12     2014\n",
      "13     2014\n",
      "14     2014\n",
      "15     2014\n",
      "16     2014\n",
      "17     2014\n",
      "18     2014\n",
      "19     2014\n",
      "20     2014\n",
      "21     2014\n",
      "22     2014\n",
      "23     2014\n",
      "24     2014\n",
      "25     2014\n",
      "26     2014\n",
      "27     2014\n",
      "28     2015\n",
      "29     2015\n",
      "       ... \n",
      "338    2019\n",
      "339    2019\n",
      "340    2019\n",
      "341    2019\n",
      "342    2019\n",
      "343    2019\n",
      "344    2019\n",
      "345    2019\n",
      "346    2019\n",
      "347    2019\n",
      "348    2019\n",
      "349    2019\n",
      "350    2019\n",
      "351    2019\n",
      "352    2019\n",
      "353    2019\n",
      "354    2019\n",
      "355    2019\n",
      "356    2019\n",
      "357    2019\n",
      "358    2019\n",
      "359    2019\n",
      "360    2019\n",
      "361    2019\n",
      "362    2019\n",
      "363    2019\n",
      "364    2019\n",
      "365    2019\n",
      "366    2019\n",
      "367    2019\n",
      "Name: Date_y, Length: 368, dtype: int64\n"
     ]
    }
   ],
   "source": [
    "hfut_exchange_news = pd.read_csv('CSVFiles/HFUT_exchange_news.csv')\n",
    "hfut_exchange_news['Date'] = pd.to_datetime(hfut_exchange_news['Date'], format='%Y-%m-%d')\n",
    "print(hfut_exchange_news.dtypes, len(hfut_exchange_news))\n",
    "hfut_exchange_news['Date_ym'] = hfut_exchange_news['Date'].apply(lambda x: x.year*100+x.month)\n",
    "hfut_exchange_news['Date_y'] = hfut_exchange_news['Date'].apply(lambda x: x.year)\n",
    "print(hfut_exchange_news['Date_y'])"
   ]
  },
  {
   "cell_type": "markdown",
   "metadata": {},
   "source": [
    "## 高频词"
   ]
  },
  {
   "cell_type": "code",
   "execution_count": null,
   "metadata": {},
   "outputs": [],
   "source": []
  }
 ],
 "metadata": {
  "kernelspec": {
   "display_name": "Python 3",
   "language": "python",
   "name": "python3"
  },
  "language_info": {
   "codemirror_mode": {
    "name": "ipython",
    "version": 3
   },
   "file_extension": ".py",
   "mimetype": "text/x-python",
   "name": "python",
   "nbconvert_exporter": "python",
   "pygments_lexer": "ipython3",
   "version": "3.6.2"
  }
 },
 "nbformat": 4,
 "nbformat_minor": 2
}
